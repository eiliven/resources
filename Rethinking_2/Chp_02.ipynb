{
 "cells": [
  {
   "cell_type": "code",
   "execution_count": null,
   "metadata": {},
   "outputs": [],
   "source": [
    "import arviz as az\n",
    "import matplotlib.pyplot as plt\n",
    "import numpy as np\n",
    "import pymc3 as pm\n",
    "import scipy.stats as stats"
   ]
  },
  {
   "cell_type": "code",
   "execution_count": null,
   "metadata": {},
   "outputs": [],
   "source": [
    "%config InlineBackend.figure_format = 'retina'\n",
    "az.style.use('arviz-darkgrid')"
   ]
  },
  {
   "cell_type": "markdown",
   "metadata": {},
   "source": [
    "#### Code 2.1"
   ]
  },
  {
   "cell_type": "code",
   "execution_count": null,
   "metadata": {},
   "outputs": [],
   "source": [
    "ways = np.array([0, 3, 8, 9, 0])\n",
    "ways / ways.sum()"
   ]
  },
  {
   "cell_type": "markdown",
   "metadata": {},
   "source": [
    "#### Code 2.2\n",
    "\n",
    "$$Pr(w \\mid n, p) =  \\frac{n!}{w!(n − w)!} p^w (1 − p)^{n−w}$$\n",
    "\n",
    "\n",
    "The probability of observing six W’s in nine tosses—under a value of p=0.5"
   ]
  },
  {
   "cell_type": "code",
   "execution_count": null,
   "metadata": {},
   "outputs": [],
   "source": [
    "stats.binom.pmf(6, n=9, p=0.5)"
   ]
  },
  {
   "cell_type": "markdown",
   "metadata": {},
   "source": [
    "#### Code 2.3 and 2.5\n",
    "\n",
    "Computing the posterior using a grid approximation.\n",
    "\n",
    "In the book the following code is not inside a function, but this way is easier to play with different parameters"
   ]
  },
  {
   "cell_type": "code",
   "execution_count": null,
   "metadata": {},
   "outputs": [],
   "source": [
    "def posterior_grid_approx(prior_gen, grid_points=5, success=6, tosses=9):\n",
    "    \"\"\"\n",
    "    \"\"\"\n",
    "    # define grid\n",
    "    p_grid = np.linspace(0, 1, grid_points)\n",
    "\n",
    "    # define prior\n",
    "    prior = prior_gen(p_grid)\n",
    "    \n",
    "    # compute likelihood at each point in the grid\n",
    "    likelihood = stats.binom.pmf(success, tosses, p_grid)\n",
    "\n",
    "    # compute product of likelihood and prior\n",
    "    unstd_posterior = likelihood * prior\n",
    "\n",
    "    # standardize the posterior, so it sums to 1\n",
    "    posterior = unstd_posterior / unstd_posterior.sum()\n",
    "    return p_grid, posterior"
   ]
  },
  {
   "cell_type": "code",
   "execution_count": null,
   "metadata": {},
   "outputs": [],
   "source": [
    "def uniform_prior(p_grid):\n",
    "    return np.repeat(5, len(p_grid))  # uniform\n",
    "\n",
    "def truncated_prior(p_grid):\n",
    "    return (p_grid >= 0.5).astype(int)  # truncated\n",
    "\n",
    "def double_exp_prior(p_grid):\n",
    "    return np.exp(- 5 * abs(p_grid - 0.5))  # double exp\n"
   ]
  },
  {
   "cell_type": "markdown",
   "metadata": {},
   "source": [
    "#### Code 2.3"
   ]
  },
  {
   "cell_type": "code",
   "execution_count": null,
   "metadata": {},
   "outputs": [],
   "source": [
    "w, n = 6, 9\n",
    "points = (5, 20, 100, 1000)"
   ]
  },
  {
   "cell_type": "code",
   "execution_count": null,
   "metadata": {},
   "outputs": [],
   "source": [
    "def do_plotting(prior_func, points, w, n):\n",
    "    _, ax = plt.subplots(1, len(points), figsize=(20, 5))\n",
    "\n",
    "    for idx, ps in enumerate(points):\n",
    "        p_grid, posterior = posterior_grid_approx(prior_func, ps, w, n)\n",
    "        ax[idx].plot(p_grid, posterior, \"o-\", label=f\"success = {w}\\ntosses = {n}\")\n",
    "        ax[idx].set_xlabel(\"probability of water\")\n",
    "        ax[idx].set_ylabel(\"posterior probability\")\n",
    "        ax[idx].set_title(f\"{ps} points\")\n",
    "        ax[idx].legend(loc=0)"
   ]
  },
  {
   "cell_type": "code",
   "execution_count": null,
   "metadata": {},
   "outputs": [],
   "source": [
    "do_plotting(uniform_prior, points, w, n)"
   ]
  },
  {
   "cell_type": "code",
   "execution_count": null,
   "metadata": {},
   "outputs": [],
   "source": [
    "do_plotting(truncated_prior, points, w, n)"
   ]
  },
  {
   "cell_type": "code",
   "execution_count": null,
   "metadata": {},
   "outputs": [],
   "source": [
    "do_plotting(double_exp_prior, points, w, n)"
   ]
  },
  {
   "cell_type": "markdown",
   "metadata": {},
   "source": [
    "#### Code 2.6\n",
    "\n",
    "Computing the posterior using the quadratic aproximation"
   ]
  },
  {
   "cell_type": "code",
   "execution_count": null,
   "metadata": {},
   "outputs": [],
   "source": [
    "data = np.repeat((0, 1), (3, 6))\n",
    "with pm.Model() as normal_aproximation:\n",
    "    p = pm.Uniform(\"p\", 0, 1)\n",
    "    w = pm.Binomial(\"w\", n=len(data), p=p, observed=data.sum())\n",
    "    mean_q = pm.find_MAP(maxeval=1e6)\n",
    "    std_q = ((1 / pm.find_hessian(mean_q, vars=[p])) ** 0.5)[0]\n",
    "mean_q[\"p\"], std_q"
   ]
  },
  {
   "cell_type": "code",
   "execution_count": null,
   "metadata": {},
   "outputs": [],
   "source": [
    "norm = stats.norm(mean_q, std_q)\n",
    "prob = 0.89\n",
    "z = stats.norm.ppf([(1 - prob) / 2, (1 + prob) / 2])\n",
    "pi = mean_q[\"p\"] + std_q * z\n",
    "pi"
   ]
  },
  {
   "cell_type": "markdown",
   "metadata": {},
   "source": [
    "#### Code 2.7"
   ]
  },
  {
   "cell_type": "code",
   "execution_count": null,
   "metadata": {},
   "outputs": [],
   "source": [
    "# analytical calculation\n",
    "w, n = 6, 9\n",
    "x = np.linspace(0, 1, 100)\n",
    "plt.plot(x, stats.beta.pdf(x, w + 1, n - w + 1), label=\"True posterior\")\n",
    "\n",
    "# quadratic approximation\n",
    "plt.plot(x, stats.norm.pdf(x, mean_q[\"p\"], std_q), label=\"Quadratic approximation\")\n",
    "plt.legend(loc=0)\n",
    "\n",
    "plt.title(f\"n = {n}\")\n",
    "plt.xlabel(\"Proportion water\");"
   ]
  },
  {
   "cell_type": "markdown",
   "metadata": {},
   "source": [
    "#### Code 2.8"
   ]
  },
  {
   "cell_type": "code",
   "execution_count": null,
   "metadata": {},
   "outputs": [],
   "source": [
    "n_samples = 1000\n",
    "p = np.zeros(n_samples)\n",
    "p[0] = 0.5\n",
    "W = 6\n",
    "L = 3\n",
    "for i in range(1, n_samples):\n",
    "    p_new = stats.norm(p[i - 1], 0.1).rvs(1)\n",
    "    if p_new < 0:\n",
    "        p_new = -p_new\n",
    "    if p_new > 1:\n",
    "        p_new = 2 - p_new\n",
    "    q0 = stats.binom.pmf(W, n=W + L, p=p[i - 1])\n",
    "    q1 = stats.binom.pmf(W, n=W + L, p=p_new)\n",
    "    if stats.uniform.rvs(0, 1) < q1 / q0:\n",
    "        p[i] = p_new\n",
    "    else:\n",
    "        p[i] = p[i - 1]"
   ]
  },
  {
   "cell_type": "code",
   "execution_count": null,
   "metadata": {},
   "outputs": [],
   "source": [
    "az.plot_kde(p, label=\"Metropolis approximation\")\n",
    "x = np.linspace(0, 1, 100)\n",
    "plt.plot(x, stats.beta.pdf(x, W + 1, L + 1), \"C1\", label=\"True posterior\")\n",
    "plt.legend();"
   ]
  },
  {
   "cell_type": "code",
   "execution_count": null,
   "metadata": {},
   "outputs": [],
   "source": []
  }
 ],
 "metadata": {
  "hide_input": false,
  "kernelspec": {
   "display_name": "Python 3",
   "language": "python",
   "name": "python3"
  },
  "language_info": {
   "codemirror_mode": {
    "name": "ipython",
    "version": 3
   },
   "file_extension": ".py",
   "mimetype": "text/x-python",
   "name": "python",
   "nbconvert_exporter": "python",
   "pygments_lexer": "ipython3",
   "version": "3.8.1"
  }
 },
 "nbformat": 4,
 "nbformat_minor": 4
}
